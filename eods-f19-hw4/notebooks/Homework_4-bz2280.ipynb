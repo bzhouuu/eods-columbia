{
 "cells": [
  {
   "cell_type": "markdown",
   "metadata": {},
   "source": [
    "# Homework 4\n",
    "\n",
    "### Due: Sun Dec. 15 @ 11:59pm"
   ]
  },
  {
   "cell_type": "markdown",
   "metadata": {},
   "source": [
    "In this homework we will covering NLP, Topic Modeling, Recommendation Engines and Timeseries Data\n",
    "\n",
    "In Part 1 we will generate recommendations on products from a department store based on product descriptions.\n",
    "We'll first transform the data into topics using Latent Dirichlet Approximation, and then generate recommendations based on this new representation.\n",
    "\n",
    "In Part 2 we will perform some timeseries transformations on weather data to create a simple model for predicting temperature.\n",
    "\n",
    "Instructions\n",
    "Follow the comments below and fill in the blanks (____) to complete.\n",
    "\n",
    "**Please 'Restart and Run All' prior to submission.**\n",
    "\n",
    "**When submitting to Gradescope, please mark on which page each question is answered.**\n",
    "\n",
    "Out of 59 points total."
   ]
  },
  {
   "cell_type": "code",
   "execution_count": 1,
   "metadata": {},
   "outputs": [],
   "source": [
    "import numpy as np\n",
    "import pandas as pd\n",
    "import matplotlib.pyplot as plt\n",
    "import seaborn as sns\n",
    "\n",
    "import warnings\n",
    "warnings.simplefilter(action='ignore', category=FutureWarning)\n",
    "warnings.simplefilter(action='ignore', category=DeprecationWarning)\n",
    "\n",
    "%matplotlib inline\n",
    "np.random.seed(123)"
   ]
  },
  {
   "cell_type": "markdown",
   "metadata": {},
   "source": [
    "# Part 1 : LDA and Recommendation Engine"
   ]
  },
  {
   "cell_type": "markdown",
   "metadata": {},
   "source": [
    "We are going to create a recommendation engine for products from a department store.  \n",
    "The recommendations will be based on the similarity of product descriptions.  \n",
    "We'll query a product and get back a list of products that are similar.  \n",
    "Instead of using the descriptions directly, we will first do some topic modeling using LDA to transform the descriptions into a topic space."
   ]
  },
  {
   "cell_type": "markdown",
   "metadata": {},
   "source": [
    "## Transform product descriptions into topics and print sample terms from topics\n"
   ]
  },
  {
   "cell_type": "code",
   "execution_count": 2,
   "metadata": {},
   "outputs": [
    {
     "name": "stdout",
     "output_type": "stream",
     "text": [
      "<class 'pandas.core.frame.DataFrame'>\n",
      "RangeIndex: 5000 entries, 0 to 4999\n",
      "Data columns (total 6 columns):\n",
      "uniq_id          5000 non-null object\n",
      "sku              5000 non-null object\n",
      "name_title       5000 non-null object\n",
      "description      5000 non-null object\n",
      "category         4698 non-null object\n",
      "category_tree    4698 non-null object\n",
      "dtypes: object(6)\n",
      "memory usage: 234.5+ KB\n"
     ]
    }
   ],
   "source": [
    "# 1. (2pts) Load the Data\n",
    "\n",
    "# The dataset we'll be working with is a set of product descriptions from JCPenney.\n",
    "\n",
    "# Load product information from ../data/jcpenney-products_subset.csv.zip\n",
    "# This is compressed version of a csv file.\n",
    "# Use pandas read_csv function with the default parameters.\n",
    "# read_csv has a parameter compression with default value 'infer' that will handle unzipping the data.\n",
    "# Store the resulting dataframe as df_products.\n",
    "df_products = pd.read_csv('../data/jcpenney-products_subset.csv.zip')\n",
    "# print a summary of df_products using .info, noting the number of records (should be 5000)\n",
    "df_products.info()"
   ]
  },
  {
   "cell_type": "code",
   "execution_count": 3,
   "metadata": {},
   "outputs": [
    {
     "name": "stdout",
     "output_type": "stream",
     "text": [
      "Alfred Dunner® Essential Pull On Capri Pant\n",
      "You'll return to our Alfred Dunner pull-on capris again and again when you want an updated, casual look and all the comfort you love.   elastic waistband approx. 19-21\" inseam slash pockets polyester washable imported      \n"
     ]
    }
   ],
   "source": [
    "# 2. (2pts) Print an Example\n",
    "\n",
    "# The two columns of the dataframe we're interested in are:\n",
    "#   name_title which is the name of the product stored as a string\n",
    "#   description which is a description of the product stored as a string\n",
    "#\n",
    "# We'll print out the product in the first row as an example\n",
    "# If we try to print both at the same time, pandas will truncate the strings\n",
    "#   so we'll print them seperately\n",
    "\n",
    "# print the product name_title in row 0 of df_products\n",
    "print(df_products.name_title[0])\n",
    "\n",
    "# print the product desciption in row 0 of df_products\n",
    "print(df_products.description[0])"
   ]
  },
  {
   "cell_type": "code",
   "execution_count": 4,
   "metadata": {},
   "outputs": [
    {
     "name": "stdout",
     "output_type": "stream",
     "text": [
      "(5000, 3979)\n"
     ]
    }
   ],
   "source": [
    "# 3. (4pts) Transform Descriptions using TfIdf\n",
    "\n",
    "# In order to pass our product descriptions to the LDA model, we first need to vectorize from strings to \n",
    "#   fixed vectors of floats.\n",
    "# To do this we will transform our documents into unigrams using Tf-Idf,\n",
    "#    use both unigrams and bigrams\n",
    "#    excluding terms which appear in less than 10 documents\n",
    "#    excluding common English stop words and\n",
    "\n",
    "# Import TfidfVectorizer from sklearn.feature_extraction.text\n",
    "from sklearn.feature_extraction.text import TfidfVectorizer\n",
    "\n",
    "#  Instantiate a TfidfVectorizer with\n",
    "#   ngram_range=(1,2),\n",
    "#   min_df=10,\n",
    "#   stop_words='english'\n",
    "# Store as tfidf\n",
    "tfidf = TfidfVectorizer(ngram_range = (1,2), min_df = 10, stop_words = 'english')\n",
    "\n",
    "# fit_transform tfidf on the descriptions column of our dataframe, creating the transformed dataset X_tfidf\n",
    "# Store as X_tfidf\n",
    "X_tfidf = tfidf.fit_transform(df_products.description)\n",
    "\n",
    "# Print the shape of X_tfidf (should be 5000 x 3979)\n",
    "print(X_tfidf.shape)"
   ]
  },
  {
   "cell_type": "code",
   "execution_count": 5,
   "metadata": {},
   "outputs": [
    {
     "name": "stdout",
     "output_type": "stream",
     "text": [
      "['zipper_pockets', 'zippered', 'zippers', 'zirconia', 'zone']\n"
     ]
    }
   ],
   "source": [
    "# 4. (3pts) Format Bigram Labels and Print Sample of Extracted Vocabulary \n",
    "\n",
    "# The extracted vocabulary cat be retrieved from tfidf as a list using get_feature_names()\n",
    "# Store the extracted vocabulary as vocabulary\n",
    "vocabulary = tfidf.get_feature_names()\n",
    "\n",
    "# Sklearn joins bigrams with a space character.\n",
    "# To make output easier to read, replace all spaces in our vocabulary list with underscores.\n",
    "# To do this we can use the string replace() method.\n",
    "# For example x.replace(' ','_') with replace all ' ' in x with '_'.\n",
    "# Store the result back in vocabulary.\n",
    "vocabulary = [x.replace(' ','_') for x in vocabulary]\n",
    "\n",
    "# Print the last 5 terms in the vocabulary\n",
    "print(vocabulary[-5:])"
   ]
  },
  {
   "cell_type": "code",
   "execution_count": 6,
   "metadata": {},
   "outputs": [
    {
     "name": "stdout",
     "output_type": "stream",
     "text": [
      "(5000, 20)\n"
     ]
    }
   ],
   "source": [
    "# 5. (4pts) Perform Topic Modeling with LDA\n",
    "\n",
    "# Now that we have our vectorized data, we can use Latent Direchlet Allocation to learn \n",
    "#   per-document topic distributions and per-topic term distributions.\n",
    "# Though there are likely more, we'll model our dataset using 20 topics to keep things small.\n",
    "# We'd like the model to run on all of the cores available in the machine we're using.\n",
    "#    `n_jobs` tells the model how many cores to use, while `n_jobs=-1` indicates use all available.\n",
    "# We'd also like the results to always be the same, so set random_state=123\n",
    "\n",
    "# Import LatentDirichletAllocation from sklearn.decomposition\n",
    "from sklearn.decomposition import LatentDirichletAllocation\n",
    "\n",
    "# Instantiate a LatentDirichletAllocation model with\n",
    "#    n_components=20, n_jobs=-1, random_state=123\n",
    "# Store as lda\n",
    "lda = LatentDirichletAllocation(n_components=20, n_jobs = -1, random_state = 123)\n",
    "\n",
    "# Run fit_transform on lda using X_tfidf.\n",
    "# Store the output (the per-document topic distributions) as X_lda\n",
    "# NOTE: this step may take a minute or more depending on your setup.\n",
    "X_lda = lda.fit_transform(X_tfidf)\n",
    "\n",
    "# Print the shape of the X_lda (should be 5000 x 20)\n",
    "print(X_lda.shape)"
   ]
  },
  {
   "cell_type": "code",
   "execution_count": 7,
   "metadata": {},
   "outputs": [
    {
     "name": "stdout",
     "output_type": "stream",
     "text": [
      "Topic # 0: upper sole rubber synthetic rubber_sole\n",
      "Topic # 1: pockets zip pocket interior closure\n",
      "Topic # 2: dry wash length polyester spandex\n",
      "Topic # 3: cotton washable_imported washable sleeves short\n",
      "Topic # 4: swim spandex_hand hand_wash lined partially_lined\n",
      "Topic # 5: sheet ci pillowcases fitted_sheet snaps\n",
      "Topic # 6: dress spandex_polyester return condition condition_green\n",
      "Topic # 7: clean measures imported design spot\n",
      "Topic # 8: safe dishwasher dishwasher_safe stainless_steel stainless\n",
      "Topic # 9: sleeves washable_imported washable polyester_washable cotton\n",
      "Topic #10: jewelry photos enlarged photos_enlarged metal\n",
      "Topic #11: door shelves bedskirt energy hidden\n",
      "Topic #12: wicking moisture moisture_wicking dri wicking_fabric\n",
      "Topic #13: star star_wars wars swimsuit dye\n",
      "Topic #14: pockets button closure rod button_closure\n",
      "Topic #15: sleepwear safety widemodel children breathability\n",
      "Topic #16: basket silky soap cook foundry_supply\n",
      "Topic #17: rug resistant yes indoor rug_pad\n",
      "Topic #18: inseam waist fit spandex spandex_washable\n",
      "Topic #19: vary ct diamond diamonds round\n"
     ]
    }
   ],
   "source": [
    "# 6. (4pts) Print Top Topic Terms\n",
    "\n",
    "# To get a sense of what each topic is composed of, we can print the most likely terms for each topic.\n",
    "# We'd like a print statement that looks like this:\n",
    "#    Topic #0 upper sole rubber synthetic rubber_sole\n",
    "#\n",
    "# For each topic print 'Topic #{idx} ' followed by the top 5 most likely terms in that topic.\n",
    "# Hints: \n",
    "#   Use vocabulary created above, but first convert from a list to np.array to make indexing easier\n",
    "#   The per topic term distributions are stored in model.components_\n",
    "#   np.argsort returns the indices of an np.array sorted by their value, in ascending order\n",
    "#   [::-1] reverses the order of an np.array\n",
    "\n",
    "for topic_idx, topic in enumerate(lda.components_):\n",
    "    result = \"Topic #{:#2d}: \".format(topic_idx)\n",
    "    result += \" \".join([vocabulary[i] for i in topic.argsort()[:-6:-1]])\n",
    "    print(result)\n",
    "\n"
   ]
  },
  {
   "cell_type": "markdown",
   "metadata": {},
   "source": [
    "### Generate recommendations using topics"
   ]
  },
  {
   "cell_type": "code",
   "execution_count": 8,
   "metadata": {},
   "outputs": [
    {
     "name": "stdout",
     "output_type": "stream",
     "text": [
      "(5000, 5000)\n"
     ]
    }
   ],
   "source": [
    "# 7. (3pts) Generate Similarity Matrix\n",
    "\n",
    "# We'll use Content Filtering to make recommendations based on a query product.\n",
    "# Each product will be represented by its LDA topic weights learned above.\n",
    "# We'd like to recommend similar products in LDA space.\n",
    "# We'll use cosine_similarity as measure of similarity.\n",
    "\n",
    "# From sklearn.metrics.pairwise import cosine_similarity\n",
    "from sklearn.metrics.pairwise import cosine_similarity\n",
    "\n",
    "# Use cosine_similarity to generate similarity scores on our X_lda data\n",
    "# Store as similarities.\n",
    "# NOTE: we only need to pass X_lda in once,\n",
    "#   the function will calculate pairwise similarity for all elements in that matrix\n",
    "similarities = cosine_similarity(X_lda)\n",
    "\n",
    "# print the shape of the similarities matrix (should be 5000x5000)\n",
    "print(similarities.shape)"
   ]
  },
  {
   "cell_type": "code",
   "execution_count": 9,
   "metadata": {},
   "outputs": [
    {
     "name": "stdout",
     "output_type": "stream",
     "text": [
      "Alfred Dunner® Essential Pull On Capri Pant\n",
      "Lee® Austyn Cargo Capris\n",
      "Levi's® 505™ Regular Jeans - Boys 8-20, Slim and Husky\n",
      "Made for Life™ Pintucked Bermuda Shorts\n",
      "Alfred Dunner® Pull On Pant\n",
      "Vanilla Star® Denim Bermuda Shorts with Embellished Pockets - Girls 7-16 and Plus\n",
      "Alfred Dunner® Santa Clara Pull-On Pants - Plus\n",
      "Love Indigo Embellished Back Pocket Jeans\n",
      "Arizona Knit Jeggings - Girls 7-16 and Plus\n",
      "Switch® Polyester Soccer Pants\n"
     ]
    }
   ],
   "source": [
    "# 8.(4pts) Generate Recommendations\n",
    "\n",
    "# Let's test our proposed recommendation engine using the product at row 0 in df_products.\n",
    "#   The name of this product is \"Alfred Dunner® Essential Pull On Capri Pant\"\n",
    "\n",
    "# Print the names for the top 10 most similar products to this query.\n",
    "# Suggested way to do this is:\n",
    "#   get the cosine similarities from row 0 of the similarities matrix\n",
    "#   get the indices of this array sorted by value using np.argsort\n",
    "#   reverse the order of these indices (remember, we want high values and np.argsort evaluates ascending)\n",
    "#   get the first 10 indexes from this reversed array\n",
    "#   use those indices to index into df_products.name_title and print the result\n",
    "\n",
    "# HINT: The first two products should be:\n",
    "#   'Alfred Dunner® Essential Pull On Capri Pant', (the original query product)\n",
    "#   'Alfred Dunner® Pull-On Pants - Plus',\n",
    "\n",
    "top10_id = np.argsort(similarities[0])[::-1][0:10]\n",
    "for idx in top10_id:\n",
    "    print(df_products.name_title[idx])\n",
    "    "
   ]
  },
  {
   "cell_type": "markdown",
   "metadata": {},
   "source": [
    "# Part 2 : Timeseries Data"
   ]
  },
  {
   "cell_type": "markdown",
   "metadata": {},
   "source": [
    "We are going to create a very simple model to predict average daily temperature at Laguardia Airport 2 days in the future. This point here isn't to generate a great model, but instead to get some practice with timeseries transformations and model evaluation.\n",
    "\n",
    "This data was collected from https://rp5.ru/Weather_archive_in_New_York,_La_Guardia_(airport)\n",
    "\n",
    "Before we do any modeling we need to resample and visualize the data."
   ]
  },
  {
   "cell_type": "code",
   "execution_count": 10,
   "metadata": {},
   "outputs": [
    {
     "name": "stdout",
     "output_type": "stream",
     "text": [
      "<class 'pandas.core.frame.DataFrame'>\n",
      "DatetimeIndex: 14600 entries, 2014-11-28 01:00:00 to 2019-11-28 22:00:00\n",
      "Data columns (total 10 columns):\n",
      "temperature                   14600 non-null float64\n",
      "pressure                      14600 non-null float64\n",
      "pressure_sealevel             14600 non-null float64\n",
      "pressure_changeslast3hours    14600 non-null float64\n",
      "relativehumidity              14600 non-null float64\n",
      "windspeed                     14600 non-null float64\n",
      "maxwindgust_prior10minutes    14600 non-null float64\n",
      "horizontalvisibility          14600 non-null float64\n",
      "temperature_dewpoint          14600 non-null float64\n",
      "precipitation_amount          14600 non-null float64\n",
      "dtypes: float64(10)\n",
      "memory usage: 1.2 MB\n"
     ]
    }
   ],
   "source": [
    "# 9. (3pts) Load Weather Data\n",
    "\n",
    "# Read in the our historical Laguardia weather data from '../data/weather_lga.csv.zip'.\n",
    "# The data includes a column 'timestamp' that we'll use as our index.\n",
    "# Use read_csv with default parameters except:\n",
    "#   set index_col to 'timestamp'\n",
    "#   pass 'timestamp' as the only element of a list to parse_dates \n",
    "# Store the result as df_weather\n",
    "df_weather = pd.read_csv('../data/weather_lga.csv.zip', index_col='timestamp', parse_dates=['timestamp'])\n",
    "\n",
    "# Print the info of df_weather\n",
    "#   Should be 14600 rows by 10 columns with no missing values)\n",
    "df_weather.info()"
   ]
  },
  {
   "cell_type": "code",
   "execution_count": 11,
   "metadata": {},
   "outputs": [
    {
     "data": {
      "text/html": [
       "<div>\n",
       "<style scoped>\n",
       "    .dataframe tbody tr th:only-of-type {\n",
       "        vertical-align: middle;\n",
       "    }\n",
       "\n",
       "    .dataframe tbody tr th {\n",
       "        vertical-align: top;\n",
       "    }\n",
       "\n",
       "    .dataframe thead th {\n",
       "        text-align: right;\n",
       "    }\n",
       "</style>\n",
       "<table border=\"1\" class=\"dataframe\">\n",
       "  <thead>\n",
       "    <tr style=\"text-align: right;\">\n",
       "      <th></th>\n",
       "      <th>temperature</th>\n",
       "      <th>pressure</th>\n",
       "      <th>pressure_sealevel</th>\n",
       "      <th>pressure_changeslast3hours</th>\n",
       "      <th>relativehumidity</th>\n",
       "      <th>windspeed</th>\n",
       "      <th>maxwindgust_prior10minutes</th>\n",
       "      <th>horizontalvisibility</th>\n",
       "      <th>temperature_dewpoint</th>\n",
       "      <th>precipitation_amount</th>\n",
       "    </tr>\n",
       "    <tr>\n",
       "      <th>timestamp</th>\n",
       "      <th></th>\n",
       "      <th></th>\n",
       "      <th></th>\n",
       "      <th></th>\n",
       "      <th></th>\n",
       "      <th></th>\n",
       "      <th></th>\n",
       "      <th></th>\n",
       "      <th></th>\n",
       "      <th></th>\n",
       "    </tr>\n",
       "  </thead>\n",
       "  <tbody>\n",
       "    <tr>\n",
       "      <td>2014-11-28 01:00:00</td>\n",
       "      <td>1.1</td>\n",
       "      <td>762.5</td>\n",
       "      <td>763.5</td>\n",
       "      <td>0.3</td>\n",
       "      <td>70.0</td>\n",
       "      <td>5.0</td>\n",
       "      <td>0.0</td>\n",
       "      <td>16.0</td>\n",
       "      <td>-3.9</td>\n",
       "      <td>0.0</td>\n",
       "    </tr>\n",
       "    <tr>\n",
       "      <td>2014-11-28 04:00:00</td>\n",
       "      <td>0.0</td>\n",
       "      <td>763.0</td>\n",
       "      <td>764.0</td>\n",
       "      <td>0.5</td>\n",
       "      <td>69.0</td>\n",
       "      <td>6.0</td>\n",
       "      <td>0.0</td>\n",
       "      <td>16.0</td>\n",
       "      <td>-5.0</td>\n",
       "      <td>0.0</td>\n",
       "    </tr>\n",
       "    <tr>\n",
       "      <td>2014-11-28 07:00:00</td>\n",
       "      <td>0.0</td>\n",
       "      <td>764.2</td>\n",
       "      <td>765.2</td>\n",
       "      <td>1.2</td>\n",
       "      <td>73.0</td>\n",
       "      <td>8.0</td>\n",
       "      <td>11.0</td>\n",
       "      <td>16.0</td>\n",
       "      <td>-4.4</td>\n",
       "      <td>0.0</td>\n",
       "    </tr>\n",
       "    <tr>\n",
       "      <td>2014-11-28 10:00:00</td>\n",
       "      <td>1.1</td>\n",
       "      <td>765.5</td>\n",
       "      <td>766.4</td>\n",
       "      <td>1.3</td>\n",
       "      <td>59.0</td>\n",
       "      <td>9.0</td>\n",
       "      <td>12.0</td>\n",
       "      <td>16.0</td>\n",
       "      <td>-6.1</td>\n",
       "      <td>0.0</td>\n",
       "    </tr>\n",
       "    <tr>\n",
       "      <td>2014-11-28 13:00:00</td>\n",
       "      <td>2.2</td>\n",
       "      <td>764.8</td>\n",
       "      <td>765.8</td>\n",
       "      <td>-0.7</td>\n",
       "      <td>55.0</td>\n",
       "      <td>7.0</td>\n",
       "      <td>11.0</td>\n",
       "      <td>16.0</td>\n",
       "      <td>-6.1</td>\n",
       "      <td>0.0</td>\n",
       "    </tr>\n",
       "  </tbody>\n",
       "</table>\n",
       "</div>"
      ],
      "text/plain": [
       "                     temperature  pressure  pressure_sealevel  \\\n",
       "timestamp                                                       \n",
       "2014-11-28 01:00:00          1.1     762.5              763.5   \n",
       "2014-11-28 04:00:00          0.0     763.0              764.0   \n",
       "2014-11-28 07:00:00          0.0     764.2              765.2   \n",
       "2014-11-28 10:00:00          1.1     765.5              766.4   \n",
       "2014-11-28 13:00:00          2.2     764.8              765.8   \n",
       "\n",
       "                     pressure_changeslast3hours  relativehumidity  windspeed  \\\n",
       "timestamp                                                                      \n",
       "2014-11-28 01:00:00                         0.3              70.0        5.0   \n",
       "2014-11-28 04:00:00                         0.5              69.0        6.0   \n",
       "2014-11-28 07:00:00                         1.2              73.0        8.0   \n",
       "2014-11-28 10:00:00                         1.3              59.0        9.0   \n",
       "2014-11-28 13:00:00                        -0.7              55.0        7.0   \n",
       "\n",
       "                     maxwindgust_prior10minutes  horizontalvisibility  \\\n",
       "timestamp                                                               \n",
       "2014-11-28 01:00:00                         0.0                  16.0   \n",
       "2014-11-28 04:00:00                         0.0                  16.0   \n",
       "2014-11-28 07:00:00                        11.0                  16.0   \n",
       "2014-11-28 10:00:00                        12.0                  16.0   \n",
       "2014-11-28 13:00:00                        11.0                  16.0   \n",
       "\n",
       "                     temperature_dewpoint  precipitation_amount  \n",
       "timestamp                                                        \n",
       "2014-11-28 01:00:00                  -3.9                   0.0  \n",
       "2014-11-28 04:00:00                  -5.0                   0.0  \n",
       "2014-11-28 07:00:00                  -4.4                   0.0  \n",
       "2014-11-28 10:00:00                  -6.1                   0.0  \n",
       "2014-11-28 13:00:00                  -6.1                   0.0  "
      ]
     },
     "execution_count": 11,
     "metadata": {},
     "output_type": "execute_result"
    }
   ],
   "source": [
    "# 10. (1pt) Examine Index\n",
    "\n",
    "# Print out the first 5 elements of the index of df_weather.\n",
    "# Note that there is more than one observation per day\n",
    "df_weather[:5]"
   ]
  },
  {
   "cell_type": "code",
   "execution_count": 12,
   "metadata": {},
   "outputs": [
    {
     "name": "stdout",
     "output_type": "stream",
     "text": [
      "<class 'pandas.core.frame.DataFrame'>\n",
      "DatetimeIndex: 1827 entries, 2014-11-28 to 2019-11-28\n",
      "Freq: D\n",
      "Data columns (total 10 columns):\n",
      "temperature                   1827 non-null float64\n",
      "pressure                      1827 non-null float64\n",
      "pressure_sealevel             1827 non-null float64\n",
      "pressure_changeslast3hours    1827 non-null float64\n",
      "relativehumidity              1827 non-null float64\n",
      "windspeed                     1827 non-null float64\n",
      "maxwindgust_prior10minutes    1827 non-null float64\n",
      "horizontalvisibility          1827 non-null float64\n",
      "temperature_dewpoint          1827 non-null float64\n",
      "precipitation_amount          1827 non-null float64\n",
      "dtypes: float64(10)\n",
      "memory usage: 157.0 KB\n"
     ]
    }
   ],
   "source": [
    "# 11. (3pts) Downsample and Aggregate\n",
    "\n",
    "# We'll downsample our data to a daily frequency.\n",
    "# Since we're downsampling, we need to aggregate observations.\n",
    "# For this exercise, we'll aggregate using mean.\n",
    "# Store the result of the downsample and aggregation as df_daily\n",
    "df_daily = df_weather.resample('D').mean()\n",
    "\n",
    "# Print the info of df_daily.\n",
    "#    Should be 1827 rows by 10 columns with an index with daily frequency\n",
    "df_daily.info()"
   ]
  },
  {
   "cell_type": "code",
   "execution_count": 13,
   "metadata": {
    "scrolled": false
   },
   "outputs": [
    {
     "data": {
      "image/png": "[encoded data removed]",
      "text/plain": [
       "<Figure size 864x432 with 1 Axes>"
      ]
     },
     "metadata": {
      "needs_background": "light"
     },
     "output_type": "display_data"
    }
   ],
   "source": [
    "# 12. (6pts) Visualize Temperature\n",
    "\n",
    "# We'd like to plot temperature over time as well as a smoothed version with standard deviation\n",
    "\n",
    "# First, create a fig,ax using subplots with figsize=(12,6)\n",
    "fig,ax = plt.subplots(figsize=(12,6))\n",
    "# On ax, plot the temperature column of df_daily, use a solid blue line with alpha value 0.1\n",
    "ax.plot(df_daily.temperature,color = 'b', alpha = 0.1);\n",
    "\n",
    "# Create a rolling object for a 30 window on temperature\n",
    "#   All parameters of rolling default except for the window size\n",
    "# Store as rolling_temp\n",
    "rolling_temp = df_daily.temperature.rolling(30);\n",
    "\n",
    "# On ax, plot the mean of rolling_temp, use a solid blue line\n",
    "rolling_temp.mean().plot(c='b');\n",
    "\n",
    "# On ax, plot the mean of rolling_temp plus 2 standard deviations, use a dotted red line\n",
    "(rolling_temp.mean()+2*rolling_temp.std()).plot(style=':',c= 'r');\n",
    "\n",
    "# On ax, plot the mean of rolling_temp minus 2 standard deviations, use a dotted red line\n",
    "(rolling_temp.mean()-2*rolling_temp.std()).plot(style=':',c= 'r');"
   ]
  },
  {
   "cell_type": "markdown",
   "metadata": {},
   "source": [
    "## Create Model to Predict Temperature"
   ]
  },
  {
   "cell_type": "markdown",
   "metadata": {},
   "source": [
    "Now we'll create a very simple model to predit temperature 2 days in the future. This is the same as saying we'd like to predict today's temperature using data 2 days in the past.\n",
    "\n",
    "We'll create two models\n",
    " 1. using only the temperature from 2 days in the past\n",
    " 2. using the full set of features from 2 days in the past joined with all features from 1 year in the past"
   ]
  },
  {
   "cell_type": "code",
   "execution_count": 14,
   "metadata": {},
   "outputs": [],
   "source": [
    "# For use in this section\n",
    "from sklearn.linear_model import Lasso\n",
    "from sklearn.feature_selection import SelectFromModel\n",
    "from sklearn.model_selection import cross_val_score"
   ]
  },
  {
   "cell_type": "code",
   "execution_count": 15,
   "metadata": {},
   "outputs": [
    {
     "name": "stdout",
     "output_type": "stream",
     "text": [
      "(1827, 10)\n"
     ]
    }
   ],
   "source": [
    "# 13. (2pts) Create Dataset of 2 days ago\n",
    "\n",
    "# We need to align the temperature on the current date with data from 2 days prior.\n",
    "# To do this we'll shift all data 2 days forward\n",
    "\n",
    "# Shift all data in df_daily two days forward\n",
    "# Store in df_twodaysprior\n",
    "df_twodaysprior = df_daily.shift(2)\n",
    "\n",
    "# Check that the data in df_twodaysprior is in fact the data in df_daily shifted two days (provided)\n",
    "assert np.all(df_twodaysprior.loc['2019-11-28'].values == df_daily.loc['2019-11-26'].values)\n",
    "\n",
    "# Print the shape of df_twodaysprior (should be the same as df_daily, 1827 x 10)\n",
    "print(df_twodaysprior.shape)"
   ]
  },
  {
   "cell_type": "code",
   "execution_count": 16,
   "metadata": {},
   "outputs": [
    {
     "name": "stdout",
     "output_type": "stream",
     "text": [
      "(1827, 10)\n"
     ]
    }
   ],
   "source": [
    "# 14. (4pts) Create Dataset of 1 Year Ago\n",
    "\n",
    "# We'd also like to use data from 1 year ago.\n",
    "# To do this we'll shift all data 365 days forward\n",
    "\n",
    "# # Shift all data in df_daily two days forward\n",
    "# Store in df_oneyearprior\n",
    "df_oneyearprior = df_daily.shift(365)\n",
    "\n",
    "# Check that the data in df_oneyearprior is in fact the data in df_daily shifted 365 days\n",
    "#   Use a similar assert statement to the one in Question 13\n",
    "#   Compare date range '2019-11-27' to '2019-11-28' in df_oneyearprior \n",
    "#      to the same dates one year prior in df_daily\n",
    "assert np.all(df_oneyearprior.loc['2019-11-27':'2019-11-28'].values == df_daily.loc['2018-11-27':'2018-11-28'].values)\n",
    "\n",
    "# Print the shape of df_oneyearprior (should be the same as df_daily, 1827 x 10)\n",
    "print(df_oneyearprior.shape)"
   ]
  },
  {
   "cell_type": "code",
   "execution_count": 17,
   "metadata": {},
   "outputs": [
    {
     "data": {
      "text/plain": [
       "Index(['oneyearprior_temperature', 'oneyearprior_pressure'], dtype='object')"
      ]
     },
     "execution_count": 17,
     "metadata": {},
     "output_type": "execute_result"
    }
   ],
   "source": [
    "# 15. (2pts) Modify df_oneyearprior Column Names\n",
    "\n",
    "# In order to make model interpretation easier later, \n",
    "#   we'll modify the column names df_oneyearprior.\n",
    "\n",
    "# Prepend all column names in df_oneyearprior with the string 'oneyearprior_'\n",
    "df_oneyearprior = df_oneyearprior.add_prefix('oneyearprior_')\n",
    "# Print out the first two column names in df_oneyearprior (first should be 'oneyearprior_temperature')\n",
    "df_oneyearprior.columns[:2]"
   ]
  },
  {
   "cell_type": "code",
   "execution_count": 18,
   "metadata": {},
   "outputs": [
    {
     "name": "stdout",
     "output_type": "stream",
     "text": [
      "0.7504069358404043\n"
     ]
    }
   ],
   "source": [
    "# 16. (4pts) Create Model Using df_twodaysprior\n",
    "\n",
    "# Now we'll create and evaluate a Lasso model trained on df_twodaysprior to predict temperature in df_daily.\n",
    "# In order to aviod any missing data due to shifting, we'll only be using data from \n",
    "#   '2015-11-28' to '2019-11-28'\n",
    "\n",
    "# Extract our target temperature from df_daily rows \n",
    "#    corresponding to dates from  '2015-11-28' to '2019-11-28' inclusive\n",
    "# Store in y\n",
    "y = df_daily.temperature.loc['2015-11-28':'2019-11-28']\n",
    "\n",
    "# Extract the temperature column from  df_twodaysprior as a dataframe\n",
    "#    corresponding to dates from  '2015-11-28' to '2019-11-28' inclusive\n",
    "# Recall that to extract a single column as a dataframe, we can pass a list with a single value\n",
    "# Store in X1\n",
    "X1= df_twodaysprior[['temperature']].loc['2015-11-28':'2019-11-28']\n",
    "\n",
    "# Generate 5-fold R^2 cross validation scores using Lasso with default values, X1 and y\n",
    "# Store in scores\n",
    "from sklearn.model_selection import cross_val_score\n",
    "from sklearn.linear_model import Lasso\n",
    "lasso = Lasso()\n",
    "\n",
    "scores = cross_val_score(lasso, X1, y, cv=5)\n",
    "\n",
    "# Print the mean of scores. (Note that this score may seem surprisingly high.)\n",
    "print(scores.mean())"
   ]
  },
  {
   "cell_type": "code",
   "execution_count": 19,
   "metadata": {},
   "outputs": [
    {
     "name": "stdout",
     "output_type": "stream",
     "text": [
      "0.7911960330948566\n"
     ]
    }
   ],
   "source": [
    "# 17. (4pts) Create Model Using df_twodaysprior and df_oneyearprior\n",
    "\n",
    "# Now we'll create and evaluate a Lasso model trained on both df_twodaysprior and df_oneyearlater.\n",
    "# As before we'll only be using data from '2015-11-28' to '2019-11-28' inclusive\n",
    "# We'll use the same y as in the questions above.\n",
    "\n",
    "# Join the rows corresponding to the dates in our target y from df_twodaysprior with those from df_oneyearprior\n",
    "# Since the indices should be the same, we can use the join function.\n",
    "# Store the result in X2\n",
    "X2 = df_twodaysprior.loc['2015-11-28':'2019-11-28'].join(df_oneyearprior)\n",
    "\n",
    "# Generate 5-fold R^2 cross validation scores using Lasso with default values, X2 and y\n",
    "# Store in scores\n",
    "lasso = Lasso()\n",
    "scores = cross_val_score(lasso, X2, y, cv =5)\n",
    "\n",
    "# Print the mean of scores. You should see a slight improvement\n",
    "print(scores.mean())"
   ]
  },
  {
   "cell_type": "code",
   "execution_count": 20,
   "metadata": {},
   "outputs": [
    {
     "name": "stdout",
     "output_type": "stream",
     "text": [
      "temperature\n",
      "pressure\n",
      "relativehumidity\n",
      "oneyearprior_temperature\n",
      "oneyearprior_relativehumidity\n"
     ]
    }
   ],
   "source": [
    "# 18. (4pts) Select Important Features From Second Model\n",
    "\n",
    "# Instantiate SelectFromModel with a Lasso model, both with default values, and fit on X2 and y\n",
    "# Store the result as sfm\n",
    "from sklearn.feature_selection import SelectFromModel\n",
    "lasso = Lasso()\n",
    "sfm = SelectFromModel(lasso).fit(X2,y)\n",
    "\n",
    "# Get the chosen features from sfm using get_support\n",
    "features = sfm.get_support()\n",
    "\n",
    "# Using the column names in X2 and support, print out each chosen featurename on a separate line\n",
    "res = list(X2.columns[features])\n",
    "for r in res:\n",
    "    print(r)"
   ]
  }
 ],
 "metadata": {
  "kernelspec": {
   "display_name": "eods-f19",
   "language": "python",
   "name": "eods-f19"
  },
  "language_info": {
   "codemirror_mode": {
    "name": "ipython",
    "version": 3
   },
   "file_extension": ".py",
   "mimetype": "text/x-python",
   "name": "python",
   "nbconvert_exporter": "python",
   "pygments_lexer": "ipython3",
   "version": "3.7.4"
  }
 },
 "nbformat": 4,
 "nbformat_minor": 2
}
